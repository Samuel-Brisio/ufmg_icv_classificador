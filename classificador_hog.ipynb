{
 "cells": [
  {
   "cell_type": "code",
   "execution_count": null,
   "metadata": {},
   "outputs": [],
   "source": [
    "import numpy as np\n",
    "import cv2 as cv\n",
    "import os\n",
    "from sklearn.neighbors import KNeighborsClassifier\n",
    "from skimage.feature import hog\n",
    "import matplotlib.pyplot as plt\n",
    "import re"
   ]
  },
  {
   "cell_type": "code",
   "execution_count": null,
   "metadata": {},
   "outputs": [],
   "source": [
    "treinamentoDiretorio = \"CAPTCHA-10k/treinamento\"\n",
    "labelsDiretorio = \"CAPTCHA-10k/labels10k/\"\n",
    "validacaoDiretorio = \"CAPTCHA-10k/validacao\""
   ]
  },
  {
   "cell_type": "code",
   "execution_count": null,
   "metadata": {},
   "outputs": [],
   "source": [
    "regioes = [35, 65, 95, 125, 155]\n",
    "tamanhoDaRegiao = 2048"
   ]
  },
  {
   "cell_type": "code",
   "execution_count": null,
   "metadata": {},
   "outputs": [],
   "source": [
    "def padding_img(img: np.ndarray, multiply_of: int):\n",
    "    nLines, nCols = img.shape\n",
    "    \n",
    "    pad_row = 0 if nLines % multiply_of == 0 else multiply_of - nLines % multiply_of\n",
    "    pad_col = 0 if nCols % multiply_of == 0 else multiply_of - nCols % multiply_of\n",
    "\n",
    "    pad_width = ((0, pad_row), (0, pad_col)) # \n",
    "    return np.pad(img, pad_width, mode='maximum') "
   ]
  },
  {
   "cell_type": "code",
   "execution_count": null,
   "metadata": {},
   "outputs": [],
   "source": [
    "def returna_regioes(img, regioes):\n",
    "    img_regioes = []\n",
    "\n",
    "    regioes = [5] + regioes + [img.shape[1]]\n",
    "\n",
    "    for i in range(len(regioes)-1):\n",
    "        img_regioes.append(img[:, regioes[i]:regioes[i+1]])\n",
    "\n",
    "\n",
    "    return img_regioes\n"
   ]
  },
  {
   "cell_type": "code",
   "execution_count": null,
   "metadata": {},
   "outputs": [],
   "source": [
    "def myHog(img):\n",
    "   return hog(img, orientations=9, pixels_per_cell=(8, 8), cells_per_block=(2, 2), block_norm='L2-Hys',feature_vector=True, channel_axis=None)"
   ]
  },
  {
   "cell_type": "code",
   "execution_count": null,
   "metadata": {},
   "outputs": [],
   "source": [
    "def hogTrainingFeatures():\n",
    "    features = []\n",
    "    \n",
    "    files = os.listdir(treinamentoDiretorio)\n",
    "    \n",
    "    for file in files:\n",
    "        filePath = os.path.join(treinamentoDiretorio, file)\n",
    "        img = cv.imread(filePath, cv.IMREAD_GRAYSCALE)\n",
    "\n",
    "        imgs = returna_regioes(img, regioes)\n",
    "\n",
    "        for i in imgs:\n",
    "            i = padding_img(i, 16)\n",
    "            if i.size != tamanhoDaRegiao:\n",
    "                print(\"Erro todas as regioes precisam ter o mesmo tamanho\")\n",
    "        \n",
    "        for i in imgs:\n",
    "            features.append(myHog(i))\n",
    "\n",
    "    return features\n",
    "\n"
   ]
  },
  {
   "cell_type": "code",
   "execution_count": null,
   "metadata": {},
   "outputs": [],
   "source": [
    "\n",
    "# Retorna as Labels de Treino\n",
    "def getTrainingLabels():\n",
    "    labelsArr = []\n",
    "    files = os.listdir(treinamentoDiretorio)\n",
    "\n",
    "    for file in files:\n",
    "        # get the img label\n",
    "        labelPATH = os.path.join(labelsDiretorio, file[:-4]+'.txt')\n",
    "        labelFILE = open(labelPATH, 'r')\n",
    "        label = labelFILE.read()\n",
    "        labelFILE.close()\n",
    "\n",
    "        label = label[0:6] if len(label) > 6 else label\n",
    "\n",
    "        labelsArr += list(label)\n",
    "    \n",
    "    return np.asarray(labelsArr)\n"
   ]
  },
  {
   "cell_type": "code",
   "execution_count": null,
   "metadata": {},
   "outputs": [],
   "source": [
    "features = hogTrainingFeatures()\n",
    "features = np.asarray(features)\n",
    "\n",
    "labelsArr = getTrainingLabels()\n",
    "\n",
    "\n",
    "# Training phase\n",
    "neigh = KNeighborsClassifier(n_neighbors=25)\n",
    "neigh.fit(features, labelsArr)"
   ]
  },
  {
   "attachments": {},
   "cell_type": "markdown",
   "metadata": {},
   "source": [
    "# Validação\n"
   ]
  },
  {
   "cell_type": "code",
   "execution_count": null,
   "metadata": {},
   "outputs": [],
   "source": [
    "def predictCaptha(model, imgPath):\n",
    "    # prediz o captcha da imagem 'imgPath' no modelo 'model'\n",
    "    \n",
    "    img = cv.imread(imgPath, cv.IMREAD_GRAYSCALE)\n",
    "    imgs = returna_regioes(img, regioes)\n",
    "\n",
    "\n",
    "    features = []\n",
    "    for i in imgs:\n",
    "        features.append(myHog(i))\n",
    "    features = np.asarray(features)\n",
    "    return model.predict(features)\n",
    "    \n"
   ]
  },
  {
   "cell_type": "code",
   "execution_count": null,
   "metadata": {},
   "outputs": [],
   "source": [
    "def validation(model):\n",
    "    features = []\n",
    "    files = os.listdir(validacaoDiretorio)\n",
    "    \n",
    "    for file in files:\n",
    "        filePath = os.path.join(validacaoDiretorio, file)\n",
    "        img = cv.imread(filePath, cv.IMREAD_GRAYSCALE)\n",
    "\n",
    "        imgs = returna_regioes(img, regioes)\n",
    "\n",
    "        for i in imgs:\n",
    "            i = padding_img(i, 16)\n",
    "            if i.size != tamanhoDaRegiao:\n",
    "                print(\"Erro todas as regioes precisam ter o mesmo tamanho\")\n",
    "        \n",
    "        for i in imgs:\n",
    "            features.append(hog(i, orientations=9, pixels_per_cell=(8, 8), cells_per_block=(2, 2), block_norm='L2-Hys',feature_vector=True, channel_axis=None))\n",
    "\n",
    "    features = np.asarray(features)\n",
    "\n",
    "    labelsArr = []\n",
    "    files = os.listdir(validacaoDiretorio)\n",
    "\n",
    "    for file in files:\n",
    "        # get the img label\n",
    "        labelPATH = os.path.join(labelsDiretorio, file[:-4]+'.txt')\n",
    "        labelFILE = open(labelPATH, 'r')\n",
    "        label = labelFILE.read()\n",
    "        labelFILE.close()\n",
    "\n",
    "        label = label[0:6] if len(label) > 6 else label\n",
    "\n",
    "        labelsArr += list(label)\n",
    "\n",
    "    predict = model.predict(features)\n",
    "\n",
    "    return (predict, labelsArr)\n",
    "\n",
    "predict, labels = validation(neigh)\n",
    "\n"
   ]
  }
 ],
 "metadata": {
  "kernelspec": {
   "display_name": "venv",
   "language": "python",
   "name": "python3"
  },
  "language_info": {
   "codemirror_mode": {
    "name": "ipython",
    "version": 3
   },
   "file_extension": ".py",
   "mimetype": "text/x-python",
   "name": "python",
   "nbconvert_exporter": "python",
   "pygments_lexer": "ipython3",
   "version": "3.10.6"
  },
  "orig_nbformat": 4
 },
 "nbformat": 4,
 "nbformat_minor": 2
}
