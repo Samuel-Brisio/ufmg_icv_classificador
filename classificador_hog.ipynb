{
 "cells": [
  {
   "cell_type": "code",
   "execution_count": 3,
   "metadata": {},
   "outputs": [],
   "source": [
    "import numpy as np\n",
    "import cv2 as cv\n",
    "import os\n",
    "from sklearn.cluster import KMeans\n",
    "from skimage.feature import hog\n",
    "import matplotlib.pyplot as plt\n",
    "import re"
   ]
  },
  {
   "cell_type": "code",
   "execution_count": 4,
   "metadata": {},
   "outputs": [],
   "source": [
    "treinamentoDiretorio = \"CAPTCHA-10k/treinamento\"\n",
    "validacaoDiretorio = \"CAPTCHA-10k/validacao\""
   ]
  },
  {
   "cell_type": "code",
   "execution_count": 5,
   "metadata": {},
   "outputs": [],
   "source": [
    "regioes = [35, 65, 95, 125, 155]\n",
    "tamanhoDaRegiao = 2048"
   ]
  },
  {
   "cell_type": "code",
   "execution_count": 6,
   "metadata": {},
   "outputs": [],
   "source": [
    "def padding_img(img: np.ndarray, multiply_of: int):\n",
    "    nLines, nCols = img.shape\n",
    "    \n",
    "    pad_row = 0 if nLines % multiply_of == 0 else multiply_of - nLines % multiply_of\n",
    "    pad_col = 0 if nCols % multiply_of == 0 else multiply_of - nCols % multiply_of\n",
    "\n",
    "    pad_width = ((0, pad_row), (0, pad_col)) # \n",
    "    return np.pad(img, pad_width, mode='maximum') "
   ]
  },
  {
   "cell_type": "code",
   "execution_count": 7,
   "metadata": {},
   "outputs": [],
   "source": [
    "def returna_regioes(img, regioes):\n",
    "    img_regioes = []\n",
    "\n",
    "    regioes = [5] + regioes + [img.shape[1]]\n",
    "\n",
    "    for i in range(len(regioes)-1):\n",
    "        img_regioes.append(img[:, regioes[i]:regioes[i+1]])\n",
    "\n",
    "\n",
    "    return img_regioes\n"
   ]
  },
  {
   "cell_type": "code",
   "execution_count": 8,
   "metadata": {},
   "outputs": [],
   "source": [
    "def hogTreinamento():\n",
    "    features = []\n",
    "    \n",
    "    files = os.listdir(treinamentoDiretorio)\n",
    "    \n",
    "    for file in files:\n",
    "        filePath = os.path.join(treinamentoDiretorio, file)\n",
    "        img = cv.imread(filePath, cv.IMREAD_GRAYSCALE)\n",
    "\n",
    "        imgs = returna_regioes(img, regioes)\n",
    "\n",
    "        for i in imgs:\n",
    "            i = padding_img(i, 16)\n",
    "            if i.size != tamanhoDaRegiao:\n",
    "                print(\"Erro todas as regioes precisam ter o mesmo tamanho\")\n",
    "        \n",
    "        for i in imgs:\n",
    "            features.append(hog(i, orientations=9, pixels_per_cell=(8, 8), cells_per_block=(2, 2), block_norm='L2-Hys',feature_vector=True, channel_axis=None))\n",
    "\n",
    "    return features\n",
    "\n"
   ]
  },
  {
   "cell_type": "code",
   "execution_count": 9,
   "metadata": {},
   "outputs": [],
   "source": [
    "features = hogTreinamento()\n",
    "features = np.asarray(features)"
   ]
  }
 ],
 "metadata": {
  "kernelspec": {
   "display_name": "venv",
   "language": "python",
   "name": "python3"
  },
  "language_info": {
   "codemirror_mode": {
    "name": "ipython",
    "version": 3
   },
   "file_extension": ".py",
   "mimetype": "text/x-python",
   "name": "python",
   "nbconvert_exporter": "python",
   "pygments_lexer": "ipython3",
   "version": "3.11.2"
  },
  "orig_nbformat": 4
 },
 "nbformat": 4,
 "nbformat_minor": 2
}
