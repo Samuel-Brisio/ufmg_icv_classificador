{
 "cells": [
  {
   "cell_type": "code",
   "execution_count": 1,
   "metadata": {},
   "outputs": [],
   "source": [
    "import numpy as np\n",
    "import cv2 as cv\n",
    "import os\n",
    "from sklearn import svm\n",
    "import matplotlib.pyplot as plt\n",
    "import re"
   ]
  },
  {
   "cell_type": "code",
   "execution_count": 17,
   "metadata": {},
   "outputs": [],
   "source": [
    "treinamentoDiretorio = \"CAPTCHA-10k/treinamento\"\n",
    "labelsDiretorio = \"CAPTCHA-10k/labels10k/\"\n",
    "validacaoDiretorio = \"CAPTCHA-10k/validacao\"\n",
    "testeDiretorio = \"CAPTCHA-10k/teste\""
   ]
  },
  {
   "cell_type": "code",
   "execution_count": 3,
   "metadata": {},
   "outputs": [],
   "source": [
    "regioes = [35, 65, 95, 125, 155]\n",
    "tamanhoDaRegiao = 2048"
   ]
  },
  {
   "cell_type": "code",
   "execution_count": 4,
   "metadata": {},
   "outputs": [],
   "source": [
    "def padding_img(img: np.ndarray, colsSize: int):\n",
    "    nLines, nCols = img.shape\n",
    "    \n",
    "    pad_row = 0\n",
    "    pad_col = colsSize - nCols\n",
    "\n",
    "    pad_width = ((0, pad_row), (0, pad_col)) # \n",
    "    return np.pad(img, pad_width, mode='maximum') "
   ]
  },
  {
   "cell_type": "code",
   "execution_count": 5,
   "metadata": {},
   "outputs": [],
   "source": [
    "def returna_regioes(img, regioes):\n",
    "    img_regioes = []\n",
    "\n",
    "    regioes = [5] + regioes + [img.shape[1]]\n",
    "\n",
    "    for i in range(len(regioes)-1):\n",
    "        img_regioes.append(img[:, regioes[i]:regioes[i+1]])\n",
    "\n",
    "\n",
    "    return img_regioes\n"
   ]
  },
  {
   "cell_type": "code",
   "execution_count": 6,
   "metadata": {},
   "outputs": [],
   "source": [
    "def dx(img):\n",
    "    img = np.array(img, dtype=np.int64)\n",
    "    M, N = img.shape\n",
    "\n",
    "    DX = np.zeros((M-2, N-2), dtype=np.int64)\n",
    "\n",
    "    for i in range(1, M-1):\n",
    "        for j in range(1, N-1):\n",
    "            DX[i-1][j-1] = np.subtract(img[i][j - 1], img[i][j + 1]) \n",
    "    return DX\n",
    "\n",
    "def dy(img):\n",
    "    img = np.array(img, dtype=np.int64)\n",
    "    M, N = img.shape\n",
    "    DY = np.zeros((M-2, N-2), dtype=np.int64)\n",
    "\n",
    "    for i in range(1, M-1):\n",
    "        for j in range(1, N-1):\n",
    "            DY[i-1][j-1] = np.subtract(img[i-1][j], img[i+1][j])\n",
    "    return DY\n",
    "\n",
    "def gradient(img):\n",
    "    DX = dx(img)\n",
    "    DY = dy(img)\n",
    "    \n",
    "    magnitude = np.sqrt(DY**2 + DX**2)\n",
    "\n",
    "    # avoid zero division\n",
    "    DX = np.array(DX, dtype=np.float128)\n",
    "    filter = DX == 0\n",
    "    DX[filter] = 0.0001\n",
    "\n",
    "    angle = (np.arctan(DY/DX))\n",
    "\n",
    "    # transform negative angles to positive\n",
    "    filter = angle < 0\n",
    "    angle[filter] += np.pi\n",
    "\n",
    "    # convert rad to angle\n",
    "    angle *= 180/np.pi\n",
    "\n",
    "    return magnitude, np.abs(angle)\n",
    "\n",
    "def charactersGradient(chars):\n",
    "    charGradient = []\n",
    "\n",
    "    for char in chars:\n",
    "        mag, angle = gradient(char)\n",
    "        charGradient.append(\n",
    "            {\n",
    "                'magnitude': mag,\n",
    "                'angle': angle\n",
    "            }\n",
    "        )\n",
    "    \n",
    "    return charGradient\n",
    "\n",
    "def CaptchaToCharacters(captcha):\n",
    "    char1 = captcha[:, 10:37]\n",
    "    char2 = captcha[:, 37:68]\n",
    "    char3 = captcha[:, 68:96]\n",
    "    char4 = captcha[:, 98:127]\n",
    "    char5 = captcha[:, 130:155]\n",
    "    char6 = captcha[:, 153:]\n",
    "    \n",
    "    chars = [char1, char2, char3, char4, char5, char6]\n",
    "\n",
    "    for i in range(len(chars)):\n",
    "        chars[i] = padding_img(chars[i], 32)\n",
    "\n",
    "    size = chars[i].size\n",
    "    for i in range(len(chars)):\n",
    "        char = chars[i]\n",
    "        if size != char.size:\n",
    "            print(f'Tamanho do referencia: {size}, char{i}: {char.size}')\n",
    "            print(\"Caracters com tamanho direfente\")\n",
    "            exit(1)\n",
    "            \n",
    "    return chars\n",
    "\n",
    "def hogChar(magnitude, angle):\n",
    "    # This hog use a 2x2 windown where each cell has 8 px\n",
    "    M, N = magnitude.shape\n",
    "\n",
    "    M = M//4 - 1\n",
    "    N = N//4 - 1\n",
    "\n",
    "    # calculate the hog, 8x8 px\n",
    "    hog8X8 = np.zeros((M*N*9, ))\n",
    "    for i in range(M):\n",
    "        for j in range(N):\n",
    "            index = angle[i*4:i*4+8, j*4:j*4+8].flatten()/20\n",
    "            m = magnitude[i*4:i*4+8, j*4:j*4+8].flatten()\n",
    "\n",
    "            cellHist8X8 = np.zeros((9, ))\n",
    "\n",
    "            for k in range(index.size):\n",
    "                id = int(index[k]//1)\n",
    "                idFraction = index[k] - id\n",
    "\n",
    "                if id >= 8:\n",
    "                    cellHist8X8[id] += m[k]\n",
    "                else:\n",
    "                    cellHist8X8[id] += (1 - idFraction) * m[k]\n",
    "                    cellHist8X8[id + 1] += idFraction * m[k]\n",
    "                \n",
    "            normalized = cellHist8X8\n",
    "            normalized /= np.sqrt((normalized**2).sum() + 0.1)\n",
    "            hog8X8[(i*N + j)*9:(i*N + j)*9 + 9] = normalized\n",
    "                \n",
    "    return hog8X8\n",
    "        \n",
    "\n",
    "def hogCaptcha(captchaPATH):\n",
    "    captcha = cv.imread(captchaPATH, cv.IMREAD_GRAYSCALE)\n",
    "    captcha = np.array(captcha, dtype=np.int64)\n",
    "\n",
    "    # magnitude, angle = gradient(captcha)\n",
    "\n",
    "    chars = CaptchaToCharacters(captcha)\n",
    "    charsGradient = charactersGradient(chars) \n",
    "\n",
    "\n",
    "    char1 = hogChar(charsGradient[0]['magnitude'], charsGradient[0]['angle'])\n",
    "    char2 = hogChar(charsGradient[1]['magnitude'], charsGradient[1]['angle'])\n",
    "    char3 = hogChar(charsGradient[2]['magnitude'], charsGradient[2]['angle'])\n",
    "    char4 = hogChar(charsGradient[3]['magnitude'], charsGradient[3]['angle'])\n",
    "    char5 = hogChar(charsGradient[4]['magnitude'], charsGradient[4]['angle'])\n",
    "    char6 = hogChar(charsGradient[5]['magnitude'], charsGradient[5]['angle'])\n",
    "    \n",
    "    return np.array([char1, char2, char3, char4, char5, char6])\n"
   ]
  },
  {
   "cell_type": "code",
   "execution_count": 7,
   "metadata": {},
   "outputs": [],
   "source": [
    "def hogFeaturesForTraining():\n",
    "    features = []\n",
    "    \n",
    "    files = os.listdir(treinamentoDiretorio)\n",
    "    \n",
    "    for file in files:\n",
    "        filePath = os.path.join(treinamentoDiretorio, file)\n",
    "\n",
    "        describers = hogCaptcha(filePath)\n",
    "\n",
    "        for i in describers:\n",
    "            features.append(i)\n",
    "\n",
    "    return np.asarray(features)\n"
   ]
  },
  {
   "cell_type": "code",
   "execution_count": 8,
   "metadata": {},
   "outputs": [],
   "source": [
    "\n",
    "# Retorna as Labels de Treino\n",
    "def getTrainingLabels():\n",
    "    labelsArr = []\n",
    "    files = os.listdir(treinamentoDiretorio)\n",
    "\n",
    "    for file in files:\n",
    "        # get the img label\n",
    "        labelPATH = os.path.join(labelsDiretorio, file[:-4]+'.txt')\n",
    "        labelFILE = open(labelPATH, 'r')\n",
    "        label = labelFILE.read()\n",
    "        labelFILE.close()\n",
    "\n",
    "        label = label[0:6] if len(label) > 6 else label\n",
    "\n",
    "        labelsArr += list(label)\n",
    "    \n",
    "    return np.asarray(labelsArr)\n"
   ]
  },
  {
   "cell_type": "code",
   "execution_count": 9,
   "metadata": {},
   "outputs": [
    {
     "data": {
      "text/plain": [
       "((48000, 594), (48000,))"
      ]
     },
     "execution_count": 9,
     "metadata": {},
     "output_type": "execute_result"
    }
   ],
   "source": [
    "features = hogFeaturesForTraining()\n",
    "labelsArr = getTrainingLabels()\n",
    "\n",
    "features.shape, labelsArr.shape\n"
   ]
  },
  {
   "cell_type": "code",
   "execution_count": 10,
   "metadata": {},
   "outputs": [
    {
     "data": {
      "text/html": [
       "<style>#sk-container-id-1 {color: black;background-color: white;}#sk-container-id-1 pre{padding: 0;}#sk-container-id-1 div.sk-toggleable {background-color: white;}#sk-container-id-1 label.sk-toggleable__label {cursor: pointer;display: block;width: 100%;margin-bottom: 0;padding: 0.3em;box-sizing: border-box;text-align: center;}#sk-container-id-1 label.sk-toggleable__label-arrow:before {content: \"▸\";float: left;margin-right: 0.25em;color: #696969;}#sk-container-id-1 label.sk-toggleable__label-arrow:hover:before {color: black;}#sk-container-id-1 div.sk-estimator:hover label.sk-toggleable__label-arrow:before {color: black;}#sk-container-id-1 div.sk-toggleable__content {max-height: 0;max-width: 0;overflow: hidden;text-align: left;background-color: #f0f8ff;}#sk-container-id-1 div.sk-toggleable__content pre {margin: 0.2em;color: black;border-radius: 0.25em;background-color: #f0f8ff;}#sk-container-id-1 input.sk-toggleable__control:checked~div.sk-toggleable__content {max-height: 200px;max-width: 100%;overflow: auto;}#sk-container-id-1 input.sk-toggleable__control:checked~label.sk-toggleable__label-arrow:before {content: \"▾\";}#sk-container-id-1 div.sk-estimator input.sk-toggleable__control:checked~label.sk-toggleable__label {background-color: #d4ebff;}#sk-container-id-1 div.sk-label input.sk-toggleable__control:checked~label.sk-toggleable__label {background-color: #d4ebff;}#sk-container-id-1 input.sk-hidden--visually {border: 0;clip: rect(1px 1px 1px 1px);clip: rect(1px, 1px, 1px, 1px);height: 1px;margin: -1px;overflow: hidden;padding: 0;position: absolute;width: 1px;}#sk-container-id-1 div.sk-estimator {font-family: monospace;background-color: #f0f8ff;border: 1px dotted black;border-radius: 0.25em;box-sizing: border-box;margin-bottom: 0.5em;}#sk-container-id-1 div.sk-estimator:hover {background-color: #d4ebff;}#sk-container-id-1 div.sk-parallel-item::after {content: \"\";width: 100%;border-bottom: 1px solid gray;flex-grow: 1;}#sk-container-id-1 div.sk-label:hover label.sk-toggleable__label {background-color: #d4ebff;}#sk-container-id-1 div.sk-serial::before {content: \"\";position: absolute;border-left: 1px solid gray;box-sizing: border-box;top: 0;bottom: 0;left: 50%;z-index: 0;}#sk-container-id-1 div.sk-serial {display: flex;flex-direction: column;align-items: center;background-color: white;padding-right: 0.2em;padding-left: 0.2em;position: relative;}#sk-container-id-1 div.sk-item {position: relative;z-index: 1;}#sk-container-id-1 div.sk-parallel {display: flex;align-items: stretch;justify-content: center;background-color: white;position: relative;}#sk-container-id-1 div.sk-item::before, #sk-container-id-1 div.sk-parallel-item::before {content: \"\";position: absolute;border-left: 1px solid gray;box-sizing: border-box;top: 0;bottom: 0;left: 50%;z-index: -1;}#sk-container-id-1 div.sk-parallel-item {display: flex;flex-direction: column;z-index: 1;position: relative;background-color: white;}#sk-container-id-1 div.sk-parallel-item:first-child::after {align-self: flex-end;width: 50%;}#sk-container-id-1 div.sk-parallel-item:last-child::after {align-self: flex-start;width: 50%;}#sk-container-id-1 div.sk-parallel-item:only-child::after {width: 0;}#sk-container-id-1 div.sk-dashed-wrapped {border: 1px dashed gray;margin: 0 0.4em 0.5em 0.4em;box-sizing: border-box;padding-bottom: 0.4em;background-color: white;}#sk-container-id-1 div.sk-label label {font-family: monospace;font-weight: bold;display: inline-block;line-height: 1.2em;}#sk-container-id-1 div.sk-label-container {text-align: center;}#sk-container-id-1 div.sk-container {/* jupyter's `normalize.less` sets `[hidden] { display: none; }` but bootstrap.min.css set `[hidden] { display: none !important; }` so we also need the `!important` here to be able to override the default hidden behavior on the sphinx rendered scikit-learn.org. See: https://github.com/scikit-learn/scikit-learn/issues/21755 */display: inline-block !important;position: relative;}#sk-container-id-1 div.sk-text-repr-fallback {display: none;}</style><div id=\"sk-container-id-1\" class=\"sk-top-container\"><div class=\"sk-text-repr-fallback\"><pre>SVC()</pre><b>In a Jupyter environment, please rerun this cell to show the HTML representation or trust the notebook. <br />On GitHub, the HTML representation is unable to render, please try loading this page with nbviewer.org.</b></div><div class=\"sk-container\" hidden><div class=\"sk-item\"><div class=\"sk-estimator sk-toggleable\"><input class=\"sk-toggleable__control sk-hidden--visually\" id=\"sk-estimator-id-1\" type=\"checkbox\" checked><label for=\"sk-estimator-id-1\" class=\"sk-toggleable__label sk-toggleable__label-arrow\">SVC</label><div class=\"sk-toggleable__content\"><pre>SVC()</pre></div></div></div></div></div>"
      ],
      "text/plain": [
       "SVC()"
      ]
     },
     "execution_count": 10,
     "metadata": {},
     "output_type": "execute_result"
    }
   ],
   "source": [
    "# Training phase\n",
    "clf = svm.SVC()\n",
    "clf.fit(features, labelsArr)"
   ]
  },
  {
   "attachments": {},
   "cell_type": "markdown",
   "metadata": {},
   "source": [
    "# Validação\n"
   ]
  },
  {
   "cell_type": "code",
   "execution_count": 11,
   "metadata": {},
   "outputs": [],
   "source": [
    "def validation(model):\n",
    "    features = []\n",
    "    files = os.listdir(validacaoDiretorio)\n",
    "    \n",
    "    for file in files:\n",
    "        filePath = os.path.join(validacaoDiretorio, file)\n",
    "\n",
    "        describers = hogCaptcha(filePath)\n",
    "        \n",
    "        for i in describers:\n",
    "            features.append(i)\n",
    "\n",
    "    features = np.asarray(features)\n",
    "    predict = model.predict(features)\n",
    "\n",
    "\n",
    "    labels = []\n",
    "    files = os.listdir(validacaoDiretorio)\n",
    "\n",
    "    for file in files:\n",
    "        # get the img label\n",
    "        labelPATH = os.path.join(labelsDiretorio, file[:-4]+'.txt')\n",
    "        labelFILE = open(labelPATH, 'r')\n",
    "        label = labelFILE.read()\n",
    "        labelFILE.close()\n",
    "\n",
    "        label = label[0:6] if len(label) > 6 else label\n",
    "\n",
    "        labels += list(label)\n",
    "    labels = np.asarray(labels)\n",
    "\n",
    "\n",
    "    return (predict, labels)\n",
    "\n",
    "predict, labels = validation(clf)"
   ]
  },
  {
   "cell_type": "code",
   "execution_count": 12,
   "metadata": {},
   "outputs": [
    {
     "data": {
      "image/png": "[encoded data removed]",
      "text/plain": [
       "<Figure size 640x480 with 1 Axes>"
      ]
     },
     "metadata": {},
     "output_type": "display_data"
    }
   ],
   "source": [
    "def numOfMatches(strA, strB):\n",
    "    return (strA == strB).sum()\n",
    "\n",
    "def createAnalitic(predict, labels):\n",
    "    numCaptchas = len(labels) // 6\n",
    "\n",
    "    histogram = [0, 0, 0, 0, 0, 0, 0]\n",
    "\n",
    "    for i in range(numCaptchas):\n",
    "        nMatch = numOfMatches(predict[i*6:i*6 + 6], labels[i*6:i*6 + 6])\n",
    "        for j in range(nMatch + 1):\n",
    "            histogram[j] += 1\n",
    "    \n",
    "\n",
    "    \n",
    "    X = [0, 1, 2, 3, 4, 5, 6]\n",
    "    histogram = np.asarray(histogram)\n",
    "    histogram = histogram / histogram[0]\n",
    "    plt.plot(X, histogram, '-r')\n",
    "    plt.title(\"Taxa de reconhecimento para pelomenos n caracteres\")\n",
    "    plt.show()\n",
    "\n",
    "createAnalitic(predict, labels)\n"
   ]
  },
  {
   "cell_type": "code",
   "execution_count": 13,
   "metadata": {},
   "outputs": [
    {
     "name": "stdout",
     "output_type": "stream",
     "text": [
      "0.9146666666666666\n",
      "0.5855677012491586\n"
     ]
    }
   ],
   "source": [
    "a = (predict == labels).sum() / predict.size\n",
    "print(a)\n",
    "print(a**6)"
   ]
  },
  {
   "attachments": {},
   "cell_type": "markdown",
   "metadata": {},
   "source": [
    "# Teste"
   ]
  },
  {
   "cell_type": "code",
   "execution_count": 18,
   "metadata": {},
   "outputs": [],
   "source": [
    "def teste(model):\n",
    "    features = []\n",
    "    files = os.listdir(testeDiretorio)\n",
    "    \n",
    "    for file in files:\n",
    "        filePath = os.path.join(testeDiretorio, file)\n",
    "\n",
    "        describers = hogCaptcha(filePath)\n",
    "        \n",
    "        for i in describers:\n",
    "            features.append(i)\n",
    "\n",
    "    features = np.asarray(features)\n",
    "    predict = model.predict(features)\n",
    "\n",
    "\n",
    "    labels = []\n",
    "    files = os.listdir(testeDiretorio)\n",
    "\n",
    "    for file in files:\n",
    "        # get the img label\n",
    "        labelPATH = os.path.join(labelsDiretorio, file[:-4]+'.txt')\n",
    "        labelFILE = open(labelPATH, 'r')\n",
    "        label = labelFILE.read()\n",
    "        labelFILE.close()\n",
    "\n",
    "        label = label[0:6] if len(label) > 6 else label\n",
    "\n",
    "        labels += list(label)\n",
    "    labels = np.asarray(labels)\n",
    "\n",
    "\n",
    "    return (predict, labels)\n",
    "\n",
    "predict, labels = teste(clf)"
   ]
  },
  {
   "cell_type": "code",
   "execution_count": 19,
   "metadata": {},
   "outputs": [
    {
     "name": "stdout",
     "output_type": "stream",
     "text": [
      "0.9086666666666666\n",
      "0.5628952458508542\n"
     ]
    },
    {
     "data": {
      "image/png": "[encoded data removed]",
      "text/plain": [
       "<Figure size 640x480 with 1 Axes>"
      ]
     },
     "metadata": {},
     "output_type": "display_data"
    }
   ],
   "source": [
    "a = (predict == labels).sum() / predict.size\n",
    "print(a)\n",
    "print(a**6)\n",
    "createAnalitic(predict, labels)"
   ]
  }
 ],
 "metadata": {
  "kernelspec": {
   "display_name": "venv",
   "language": "python",
   "name": "python3"
  },
  "language_info": {
   "codemirror_mode": {
    "name": "ipython",
    "version": 3
   },
   "file_extension": ".py",
   "mimetype": "text/x-python",
   "name": "python",
   "nbconvert_exporter": "python",
   "pygments_lexer": "ipython3",
   "version": "3.10.6"
  },
  "orig_nbformat": 4
 },
 "nbformat": 4,
 "nbformat_minor": 2
}
