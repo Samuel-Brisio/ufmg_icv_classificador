{
 "cells": [
  {
   "cell_type": "code",
   "execution_count": 60,
   "metadata": {},
   "outputs": [],
   "source": [
    "import numpy as np\n",
    "import cv2 as cv\n",
    "import os\n",
    "from sklearn import svm\n",
    "from skimage.feature import hog\n",
    "import matplotlib.pyplot as plt\n",
    "import re"
   ]
  },
  {
   "cell_type": "code",
   "execution_count": 61,
   "metadata": {},
   "outputs": [],
   "source": [
    "treinamentoDiretorio = \"CAPTCHA-10k/treinamento\"\n",
    "labelsDiretorio = \"CAPTCHA-10k/labels10k/\"\n",
    "validacaoDiretorio = \"CAPTCHA-10k/validacao\""
   ]
  },
  {
   "cell_type": "code",
   "execution_count": 62,
   "metadata": {},
   "outputs": [],
   "source": [
    "regioes = [35, 65, 95, 125, 155]\n",
    "tamanhoDaRegiao = 2048"
   ]
  },
  {
   "cell_type": "code",
   "execution_count": 63,
   "metadata": {},
   "outputs": [],
   "source": [
    "def padding_img(img: np.ndarray, multiply_of: int):\n",
    "    nLines, nCols = img.shape\n",
    "    \n",
    "    pad_row = 0 if nLines % multiply_of == 0 else multiply_of - nLines % multiply_of\n",
    "    pad_col = 0 if nCols % multiply_of == 0 else multiply_of - nCols % multiply_of\n",
    "\n",
    "    pad_width = ((0, pad_row), (0, pad_col)) # \n",
    "    return np.pad(img, pad_width, mode='maximum') "
   ]
  },
  {
   "cell_type": "code",
   "execution_count": 64,
   "metadata": {},
   "outputs": [],
   "source": [
    "def returna_regioes(img, regioes):\n",
    "    img_regioes = []\n",
    "\n",
    "    regioes = [5] + regioes + [img.shape[1]]\n",
    "\n",
    "    for i in range(len(regioes)-1):\n",
    "        img_regioes.append(img[:, regioes[i]:regioes[i+1]])\n",
    "\n",
    "\n",
    "    return img_regioes\n"
   ]
  },
  {
   "cell_type": "code",
   "execution_count": 65,
   "metadata": {},
   "outputs": [],
   "source": [
    "def myHog(img):\n",
    "   return hog(img, orientations=9, pixels_per_cell=(8, 8), cells_per_block=(2, 2), block_norm='L2-Hys',feature_vector=True, channel_axis=None)"
   ]
  },
  {
   "cell_type": "code",
   "execution_count": 66,
   "metadata": {},
   "outputs": [],
   "source": [
    "def hogTrainingFeatures():\n",
    "    features = []\n",
    "    \n",
    "    files = os.listdir(treinamentoDiretorio)\n",
    "    \n",
    "    for file in files:\n",
    "        filePath = os.path.join(treinamentoDiretorio, file)\n",
    "        img = cv.imread(filePath, cv.IMREAD_GRAYSCALE)\n",
    "\n",
    "        imgs = returna_regioes(img, regioes)\n",
    "\n",
    "        for i in imgs:\n",
    "            i = padding_img(i, 16)\n",
    "            if i.size != tamanhoDaRegiao:\n",
    "                print(\"Erro todas as regioes precisam ter o mesmo tamanho\")\n",
    "        \n",
    "        for i in imgs:\n",
    "            features.append(myHog(i))\n",
    "\n",
    "    return features\n",
    "\n"
   ]
  },
  {
   "cell_type": "code",
   "execution_count": 67,
   "metadata": {},
   "outputs": [],
   "source": [
    "\n",
    "# Retorna as Labels de Treino\n",
    "def getTrainingLabels():\n",
    "    labelsArr = []\n",
    "    files = os.listdir(treinamentoDiretorio)\n",
    "\n",
    "    for file in files:\n",
    "        # get the img label\n",
    "        labelPATH = os.path.join(labelsDiretorio, file[:-4]+'.txt')\n",
    "        labelFILE = open(labelPATH, 'r')\n",
    "        label = labelFILE.read()\n",
    "        labelFILE.close()\n",
    "\n",
    "        label = label[0:6] if len(label) > 6 else label\n",
    "\n",
    "        labelsArr += list(label)\n",
    "    \n",
    "    return np.asarray(labelsArr)\n"
   ]
  },
  {
   "cell_type": "code",
   "execution_count": 68,
   "metadata": {},
   "outputs": [
    {
     "data": {
      "text/html": [
       "<style>#sk-container-id-3 {color: black;background-color: white;}#sk-container-id-3 pre{padding: 0;}#sk-container-id-3 div.sk-toggleable {background-color: white;}#sk-container-id-3 label.sk-toggleable__label {cursor: pointer;display: block;width: 100%;margin-bottom: 0;padding: 0.3em;box-sizing: border-box;text-align: center;}#sk-container-id-3 label.sk-toggleable__label-arrow:before {content: \"▸\";float: left;margin-right: 0.25em;color: #696969;}#sk-container-id-3 label.sk-toggleable__label-arrow:hover:before {color: black;}#sk-container-id-3 div.sk-estimator:hover label.sk-toggleable__label-arrow:before {color: black;}#sk-container-id-3 div.sk-toggleable__content {max-height: 0;max-width: 0;overflow: hidden;text-align: left;background-color: #f0f8ff;}#sk-container-id-3 div.sk-toggleable__content pre {margin: 0.2em;color: black;border-radius: 0.25em;background-color: #f0f8ff;}#sk-container-id-3 input.sk-toggleable__control:checked~div.sk-toggleable__content {max-height: 200px;max-width: 100%;overflow: auto;}#sk-container-id-3 input.sk-toggleable__control:checked~label.sk-toggleable__label-arrow:before {content: \"▾\";}#sk-container-id-3 div.sk-estimator input.sk-toggleable__control:checked~label.sk-toggleable__label {background-color: #d4ebff;}#sk-container-id-3 div.sk-label input.sk-toggleable__control:checked~label.sk-toggleable__label {background-color: #d4ebff;}#sk-container-id-3 input.sk-hidden--visually {border: 0;clip: rect(1px 1px 1px 1px);clip: rect(1px, 1px, 1px, 1px);height: 1px;margin: -1px;overflow: hidden;padding: 0;position: absolute;width: 1px;}#sk-container-id-3 div.sk-estimator {font-family: monospace;background-color: #f0f8ff;border: 1px dotted black;border-radius: 0.25em;box-sizing: border-box;margin-bottom: 0.5em;}#sk-container-id-3 div.sk-estimator:hover {background-color: #d4ebff;}#sk-container-id-3 div.sk-parallel-item::after {content: \"\";width: 100%;border-bottom: 1px solid gray;flex-grow: 1;}#sk-container-id-3 div.sk-label:hover label.sk-toggleable__label {background-color: #d4ebff;}#sk-container-id-3 div.sk-serial::before {content: \"\";position: absolute;border-left: 1px solid gray;box-sizing: border-box;top: 0;bottom: 0;left: 50%;z-index: 0;}#sk-container-id-3 div.sk-serial {display: flex;flex-direction: column;align-items: center;background-color: white;padding-right: 0.2em;padding-left: 0.2em;position: relative;}#sk-container-id-3 div.sk-item {position: relative;z-index: 1;}#sk-container-id-3 div.sk-parallel {display: flex;align-items: stretch;justify-content: center;background-color: white;position: relative;}#sk-container-id-3 div.sk-item::before, #sk-container-id-3 div.sk-parallel-item::before {content: \"\";position: absolute;border-left: 1px solid gray;box-sizing: border-box;top: 0;bottom: 0;left: 50%;z-index: -1;}#sk-container-id-3 div.sk-parallel-item {display: flex;flex-direction: column;z-index: 1;position: relative;background-color: white;}#sk-container-id-3 div.sk-parallel-item:first-child::after {align-self: flex-end;width: 50%;}#sk-container-id-3 div.sk-parallel-item:last-child::after {align-self: flex-start;width: 50%;}#sk-container-id-3 div.sk-parallel-item:only-child::after {width: 0;}#sk-container-id-3 div.sk-dashed-wrapped {border: 1px dashed gray;margin: 0 0.4em 0.5em 0.4em;box-sizing: border-box;padding-bottom: 0.4em;background-color: white;}#sk-container-id-3 div.sk-label label {font-family: monospace;font-weight: bold;display: inline-block;line-height: 1.2em;}#sk-container-id-3 div.sk-label-container {text-align: center;}#sk-container-id-3 div.sk-container {/* jupyter's `normalize.less` sets `[hidden] { display: none; }` but bootstrap.min.css set `[hidden] { display: none !important; }` so we also need the `!important` here to be able to override the default hidden behavior on the sphinx rendered scikit-learn.org. See: https://github.com/scikit-learn/scikit-learn/issues/21755 */display: inline-block !important;position: relative;}#sk-container-id-3 div.sk-text-repr-fallback {display: none;}</style><div id=\"sk-container-id-3\" class=\"sk-top-container\"><div class=\"sk-text-repr-fallback\"><pre>SVC()</pre><b>In a Jupyter environment, please rerun this cell to show the HTML representation or trust the notebook. <br />On GitHub, the HTML representation is unable to render, please try loading this page with nbviewer.org.</b></div><div class=\"sk-container\" hidden><div class=\"sk-item\"><div class=\"sk-estimator sk-toggleable\"><input class=\"sk-toggleable__control sk-hidden--visually\" id=\"sk-estimator-id-3\" type=\"checkbox\" checked><label for=\"sk-estimator-id-3\" class=\"sk-toggleable__label sk-toggleable__label-arrow\">SVC</label><div class=\"sk-toggleable__content\"><pre>SVC()</pre></div></div></div></div></div>"
      ],
      "text/plain": [
       "SVC()"
      ]
     },
     "execution_count": 68,
     "metadata": {},
     "output_type": "execute_result"
    }
   ],
   "source": [
    "features = hogTrainingFeatures()\n",
    "features = np.asarray(features)\n",
    "\n",
    "labelsArr = getTrainingLabels()\n",
    "\n",
    "\n",
    "# Training phase\n",
    "clf = svm.SVC()\n",
    "clf.fit(features, labelsArr)"
   ]
  },
  {
   "attachments": {},
   "cell_type": "markdown",
   "metadata": {},
   "source": [
    "# Validação\n"
   ]
  },
  {
   "cell_type": "code",
   "execution_count": 69,
   "metadata": {},
   "outputs": [],
   "source": [
    "def predictCaptha(model, imgPath):\n",
    "    # prediz o captcha da imagem 'imgPath' no modelo 'model'\n",
    "    \n",
    "    img = cv.imread(imgPath, cv.IMREAD_GRAYSCALE)\n",
    "    imgs = returna_regioes(img, regioes)\n",
    "\n",
    "\n",
    "    features = []\n",
    "    for i in imgs:\n",
    "        features.append(myHog(i))\n",
    "    features = np.asarray(features)\n",
    "    return model.predict(features)\n",
    "    \n"
   ]
  },
  {
   "cell_type": "code",
   "execution_count": 70,
   "metadata": {},
   "outputs": [],
   "source": [
    "def validation(model):\n",
    "    features = []\n",
    "    files = os.listdir(validacaoDiretorio)\n",
    "    \n",
    "    for file in files:\n",
    "        filePath = os.path.join(validacaoDiretorio, file)\n",
    "        img = cv.imread(filePath, cv.IMREAD_GRAYSCALE)\n",
    "\n",
    "        imgs = returna_regioes(img, regioes)\n",
    "\n",
    "        for i in imgs:\n",
    "            i = padding_img(i, 16)\n",
    "            if i.size != tamanhoDaRegiao:\n",
    "                print(\"Erro todas as regioes precisam ter o mesmo tamanho\")\n",
    "        \n",
    "        for i in imgs:\n",
    "            features.append(myHog(i))\n",
    "\n",
    "    features = np.asarray(features)\n",
    "    predict = model.predict(features)\n",
    "\n",
    "\n",
    "    labels = []\n",
    "    files = os.listdir(validacaoDiretorio)\n",
    "\n",
    "    for file in files:\n",
    "        # get the img label\n",
    "        labelPATH = os.path.join(labelsDiretorio, file[:-4]+'.txt')\n",
    "        labelFILE = open(labelPATH, 'r')\n",
    "        label = labelFILE.read()\n",
    "        labelFILE.close()\n",
    "\n",
    "        label = label[0:6] if len(label) > 6 else label\n",
    "\n",
    "        labels += list(label)\n",
    "    labels = np.asarray(labels)\n",
    "\n",
    "\n",
    "    return (predict, labels)\n",
    "\n",
    "predict, labels = validation(clf)"
   ]
  },
  {
   "attachments": {},
   "cell_type": "markdown",
   "metadata": {},
   "source": [
    "# Análise\n"
   ]
  },
  {
   "cell_type": "code",
   "execution_count": 71,
   "metadata": {},
   "outputs": [
    {
     "data": {
      "image/png": "[encoded data removed]",
      "text/plain": [
       "<Figure size 640x480 with 1 Axes>"
      ]
     },
     "metadata": {},
     "output_type": "display_data"
    }
   ],
   "source": [
    "def numOfMatches(strA, strB):\n",
    "    return (strA == strB).sum()\n",
    "\n",
    "def createAnalitic(predict, labels):\n",
    "    numCaptchas = len(labels) // 6\n",
    "\n",
    "    histogram = [0, 0, 0, 0, 0, 0, 0]\n",
    "\n",
    "    for i in range(numCaptchas):\n",
    "        nMatch = numOfMatches(predict[i*6:i*6 + 6], labels[i*6:i*6 + 6])\n",
    "        for j in range(nMatch + 1):\n",
    "            histogram[j] += 1\n",
    "    \n",
    "\n",
    "    \n",
    "    X = [0, 1, 2, 3, 4, 5, 6]\n",
    "    histogram = np.asarray(histogram)\n",
    "    histogram = histogram / histogram[0]\n",
    "    plt.plot(X, histogram, '-r')\n",
    "    plt.title(\"Taxa de reconhecimento para pelomenos n caracteres\")\n",
    "    plt.show()\n",
    "\n",
    "createAnalitic(predict, labels)\n"
   ]
  }
 ],
 "metadata": {
  "kernelspec": {
   "display_name": "venv",
   "language": "python",
   "name": "python3"
  },
  "language_info": {
   "codemirror_mode": {
    "name": "ipython",
    "version": 3
   },
   "file_extension": ".py",
   "mimetype": "text/x-python",
   "name": "python",
   "nbconvert_exporter": "python",
   "pygments_lexer": "ipython3",
   "version": "3.10.6"
  },
  "orig_nbformat": 4
 },
 "nbformat": 4,
 "nbformat_minor": 2
}
